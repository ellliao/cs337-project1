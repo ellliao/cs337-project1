{
  "cells": [
    {
      "cell_type": "code",
      "execution_count": 1,
      "metadata": {
        "colab": {
          "base_uri": "https://localhost:8080/"
        },
        "id": "D-Ijlqcp97B6",
        "outputId": "1aa037b9-8b9a-4b8b-8304-18ca0dbbf03b"
      },
      "outputs": [
        {
          "name": "stdout",
          "output_type": "stream",
          "text": [
            "Requirement already satisfied: ftfy in /Library/Frameworks/Python.framework/Versions/3.10/lib/python3.10/site-packages (6.3.0)\n",
            "Requirement already satisfied: wcwidth in /Users/ellen/Library/Python/3.10/lib/python/site-packages (from ftfy) (0.2.6)\n",
            "Note: you may need to restart the kernel to use updated packages.\n"
          ]
        }
      ],
      "source": [
        "pip install ftfy"
      ]
    },
    {
      "cell_type": "code",
      "execution_count": 2,
      "metadata": {
        "colab": {
          "base_uri": "https://localhost:8080/"
        },
        "id": "MHky2tma-j7v",
        "outputId": "710d99fb-9fb3-4982-a59b-cb1838cdfdc2"
      },
      "outputs": [
        {
          "name": "stdout",
          "output_type": "stream",
          "text": [
            "Requirement already satisfied: nltk in /Library/Frameworks/Python.framework/Versions/3.10/lib/python3.10/site-packages (3.8.1)\n",
            "Requirement already satisfied: click in /Library/Frameworks/Python.framework/Versions/3.10/lib/python3.10/site-packages (from nltk) (8.1.3)\n",
            "Requirement already satisfied: joblib in /Library/Frameworks/Python.framework/Versions/3.10/lib/python3.10/site-packages (from nltk) (1.2.0)\n",
            "Requirement already satisfied: regex>=2021.8.3 in /Library/Frameworks/Python.framework/Versions/3.10/lib/python3.10/site-packages (from nltk) (2023.3.23)\n",
            "Requirement already satisfied: tqdm in /Library/Frameworks/Python.framework/Versions/3.10/lib/python3.10/site-packages (from nltk) (4.65.0)\n",
            "Note: you may need to restart the kernel to use updated packages.\n"
          ]
        }
      ],
      "source": [
        "pip install nltk"
      ]
    },
    {
      "cell_type": "code",
      "execution_count": 3,
      "metadata": {
        "colab": {
          "base_uri": "https://localhost:8080/"
        },
        "id": "sKdHRK9M-rRv",
        "outputId": "eb04a133-5b36-450f-8bd4-46e7370fdc1a"
      },
      "outputs": [
        {
          "name": "stdout",
          "output_type": "stream",
          "text": [
            "Requirement already satisfied: Unidecode in /Library/Frameworks/Python.framework/Versions/3.10/lib/python3.10/site-packages (1.3.8)\n",
            "Note: you may need to restart the kernel to use updated packages.\n"
          ]
        }
      ],
      "source": [
        "pip install Unidecode"
      ]
    },
    {
      "cell_type": "code",
      "execution_count": 4,
      "metadata": {
        "colab": {
          "base_uri": "https://localhost:8080/"
        },
        "id": "fxVN1YXF-stO",
        "outputId": "b5176431-3b8f-41e0-b710-6875b35b2119"
      },
      "outputs": [
        {
          "name": "stdout",
          "output_type": "stream",
          "text": [
            "Requirement already satisfied: SpaCy in /Library/Frameworks/Python.framework/Versions/3.10/lib/python3.10/site-packages (3.8.2)\n",
            "Requirement already satisfied: spacy-legacy<3.1.0,>=3.0.11 in /Library/Frameworks/Python.framework/Versions/3.10/lib/python3.10/site-packages (from SpaCy) (3.0.12)\n",
            "Requirement already satisfied: spacy-loggers<2.0.0,>=1.0.0 in /Library/Frameworks/Python.framework/Versions/3.10/lib/python3.10/site-packages (from SpaCy) (1.0.5)\n",
            "Requirement already satisfied: murmurhash<1.1.0,>=0.28.0 in /Library/Frameworks/Python.framework/Versions/3.10/lib/python3.10/site-packages (from SpaCy) (1.0.10)\n",
            "Requirement already satisfied: cymem<2.1.0,>=2.0.2 in /Library/Frameworks/Python.framework/Versions/3.10/lib/python3.10/site-packages (from SpaCy) (2.0.8)\n",
            "Requirement already satisfied: preshed<3.1.0,>=3.0.2 in /Library/Frameworks/Python.framework/Versions/3.10/lib/python3.10/site-packages (from SpaCy) (3.0.9)\n",
            "Requirement already satisfied: thinc<8.4.0,>=8.3.0 in /Library/Frameworks/Python.framework/Versions/3.10/lib/python3.10/site-packages (from SpaCy) (8.3.2)\n",
            "Requirement already satisfied: wasabi<1.2.0,>=0.9.1 in /Library/Frameworks/Python.framework/Versions/3.10/lib/python3.10/site-packages (from SpaCy) (1.1.3)\n",
            "Requirement already satisfied: srsly<3.0.0,>=2.4.3 in /Library/Frameworks/Python.framework/Versions/3.10/lib/python3.10/site-packages (from SpaCy) (2.4.8)\n",
            "Requirement already satisfied: catalogue<2.1.0,>=2.0.6 in /Library/Frameworks/Python.framework/Versions/3.10/lib/python3.10/site-packages (from SpaCy) (2.0.10)\n",
            "Requirement already satisfied: weasel<0.5.0,>=0.1.0 in /Library/Frameworks/Python.framework/Versions/3.10/lib/python3.10/site-packages (from SpaCy) (0.4.1)\n",
            "Requirement already satisfied: typer<1.0.0,>=0.3.0 in /Library/Frameworks/Python.framework/Versions/3.10/lib/python3.10/site-packages (from SpaCy) (0.12.5)\n",
            "Requirement already satisfied: tqdm<5.0.0,>=4.38.0 in /Library/Frameworks/Python.framework/Versions/3.10/lib/python3.10/site-packages (from SpaCy) (4.65.0)\n",
            "Requirement already satisfied: requests<3.0.0,>=2.13.0 in /Library/Frameworks/Python.framework/Versions/3.10/lib/python3.10/site-packages (from SpaCy) (2.32.3)\n",
            "Requirement already satisfied: pydantic!=1.8,!=1.8.1,<3.0.0,>=1.7.4 in /Library/Frameworks/Python.framework/Versions/3.10/lib/python3.10/site-packages (from SpaCy) (2.9.2)\n",
            "Requirement already satisfied: jinja2 in /Library/Frameworks/Python.framework/Versions/3.10/lib/python3.10/site-packages (from SpaCy) (3.1.4)\n",
            "Requirement already satisfied: setuptools in /Library/Frameworks/Python.framework/Versions/3.10/lib/python3.10/site-packages (from SpaCy) (58.1.0)\n",
            "Requirement already satisfied: packaging>=20.0 in /Users/ellen/Library/Python/3.10/lib/python/site-packages (from SpaCy) (23.1)\n",
            "Requirement already satisfied: langcodes<4.0.0,>=3.2.0 in /Library/Frameworks/Python.framework/Versions/3.10/lib/python3.10/site-packages (from SpaCy) (3.4.1)\n",
            "Requirement already satisfied: numpy>=1.19.0 in /Library/Frameworks/Python.framework/Versions/3.10/lib/python3.10/site-packages (from SpaCy) (2.0.2)\n",
            "Requirement already satisfied: language-data>=1.2 in /Library/Frameworks/Python.framework/Versions/3.10/lib/python3.10/site-packages (from langcodes<4.0.0,>=3.2.0->SpaCy) (1.2.0)\n",
            "Requirement already satisfied: annotated-types>=0.6.0 in /Library/Frameworks/Python.framework/Versions/3.10/lib/python3.10/site-packages (from pydantic!=1.8,!=1.8.1,<3.0.0,>=1.7.4->SpaCy) (0.7.0)\n",
            "Requirement already satisfied: pydantic-core==2.23.4 in /Library/Frameworks/Python.framework/Versions/3.10/lib/python3.10/site-packages (from pydantic!=1.8,!=1.8.1,<3.0.0,>=1.7.4->SpaCy) (2.23.4)\n",
            "Requirement already satisfied: typing-extensions>=4.6.1 in /Library/Frameworks/Python.framework/Versions/3.10/lib/python3.10/site-packages (from pydantic!=1.8,!=1.8.1,<3.0.0,>=1.7.4->SpaCy) (4.12.2)\n",
            "Requirement already satisfied: charset-normalizer<4,>=2 in /Library/Frameworks/Python.framework/Versions/3.10/lib/python3.10/site-packages (from requests<3.0.0,>=2.13.0->SpaCy) (3.4.0)\n",
            "Requirement already satisfied: idna<4,>=2.5 in /Library/Frameworks/Python.framework/Versions/3.10/lib/python3.10/site-packages (from requests<3.0.0,>=2.13.0->SpaCy) (3.10)\n",
            "Requirement already satisfied: urllib3<3,>=1.21.1 in /Library/Frameworks/Python.framework/Versions/3.10/lib/python3.10/site-packages (from requests<3.0.0,>=2.13.0->SpaCy) (2.2.3)\n",
            "Requirement already satisfied: certifi>=2017.4.17 in /Library/Frameworks/Python.framework/Versions/3.10/lib/python3.10/site-packages (from requests<3.0.0,>=2.13.0->SpaCy) (2024.8.30)\n",
            "Requirement already satisfied: blis<1.1.0,>=1.0.0 in /Library/Frameworks/Python.framework/Versions/3.10/lib/python3.10/site-packages (from thinc<8.4.0,>=8.3.0->SpaCy) (1.0.1)\n",
            "Requirement already satisfied: confection<1.0.0,>=0.0.1 in /Library/Frameworks/Python.framework/Versions/3.10/lib/python3.10/site-packages (from thinc<8.4.0,>=8.3.0->SpaCy) (0.1.5)\n",
            "Requirement already satisfied: click>=8.0.0 in /Library/Frameworks/Python.framework/Versions/3.10/lib/python3.10/site-packages (from typer<1.0.0,>=0.3.0->SpaCy) (8.1.3)\n",
            "Requirement already satisfied: shellingham>=1.3.0 in /Library/Frameworks/Python.framework/Versions/3.10/lib/python3.10/site-packages (from typer<1.0.0,>=0.3.0->SpaCy) (1.5.4)\n",
            "Requirement already satisfied: rich>=10.11.0 in /Library/Frameworks/Python.framework/Versions/3.10/lib/python3.10/site-packages (from typer<1.0.0,>=0.3.0->SpaCy) (13.9.2)\n",
            "Requirement already satisfied: cloudpathlib<1.0.0,>=0.7.0 in /Library/Frameworks/Python.framework/Versions/3.10/lib/python3.10/site-packages (from weasel<0.5.0,>=0.1.0->SpaCy) (0.20.0)\n",
            "Requirement already satisfied: smart-open<8.0.0,>=5.2.1 in /Library/Frameworks/Python.framework/Versions/3.10/lib/python3.10/site-packages (from weasel<0.5.0,>=0.1.0->SpaCy) (7.0.5)\n",
            "Requirement already satisfied: MarkupSafe>=2.0 in /Library/Frameworks/Python.framework/Versions/3.10/lib/python3.10/site-packages (from jinja2->SpaCy) (3.0.2)\n",
            "Requirement already satisfied: marisa-trie>=0.7.7 in /Library/Frameworks/Python.framework/Versions/3.10/lib/python3.10/site-packages (from language-data>=1.2->langcodes<4.0.0,>=3.2.0->SpaCy) (1.2.1)\n",
            "Requirement already satisfied: markdown-it-py>=2.2.0 in /Library/Frameworks/Python.framework/Versions/3.10/lib/python3.10/site-packages (from rich>=10.11.0->typer<1.0.0,>=0.3.0->SpaCy) (3.0.0)\n",
            "Requirement already satisfied: pygments<3.0.0,>=2.13.0 in /Users/ellen/Library/Python/3.10/lib/python/site-packages (from rich>=10.11.0->typer<1.0.0,>=0.3.0->SpaCy) (2.15.1)\n",
            "Requirement already satisfied: wrapt in /Library/Frameworks/Python.framework/Versions/3.10/lib/python3.10/site-packages (from smart-open<8.0.0,>=5.2.1->weasel<0.5.0,>=0.1.0->SpaCy) (1.16.0)\n",
            "Requirement already satisfied: mdurl~=0.1 in /Library/Frameworks/Python.framework/Versions/3.10/lib/python3.10/site-packages (from markdown-it-py>=2.2.0->rich>=10.11.0->typer<1.0.0,>=0.3.0->SpaCy) (0.1.2)\n",
            "Note: you may need to restart the kernel to use updated packages.\n"
          ]
        }
      ],
      "source": [
        "pip install SpaCy"
      ]
    },
    {
      "cell_type": "code",
      "execution_count": 15,
      "metadata": {
        "colab": {
          "base_uri": "https://localhost:8080/"
        },
        "id": "JqAGdyxn8R1x",
        "outputId": "dc0cb729-e5f7-4e7d-8a5a-fd3ff4f51be6"
      },
      "outputs": [],
      "source": [
        "import re\n",
        "from ftfy import fix_text\n",
        "import spacy\n",
        "import json\n",
        "from unidecode import unidecode\n",
        "spacy_model = spacy.load('en_core_web_sm')\n",
        "\n",
        "# open write and read json file\n",
        "with open('gg2013.json', 'r', encoding='utf-8') as file:\n",
        "    data = json.load(file)\n",
        "\n",
        "# Store RT totals from text\n",
        "rt_totals = {}\n",
        "for data_text in data:\n",
        "    text = data_text['text']\n",
        "\n",
        "    # The following cleaning must be done to combine tweets properly\n",
        "    # Remove URLS\n",
        "    text= re.sub(r'https?://\\S+|www\\.\\S+', '', text)\n",
        "    #Fix encoding issues\n",
        "    text = fix_text(text)\n",
        "    #Standardize special characters / emojis to Unicode\n",
        "    text = unidecode(text)\n",
        "\n",
        "    #extract RT data from text\n",
        "    retweets = re.findall(r'\\b(?:(?:RT )|\\\")@(\\w+):? (.*?)(?=(?:\\\"\\Z)|\\Z|(?:\\b RT @\\w+:))', text)\n",
        "    \n",
        "    # Update retweet totals\n",
        "    for rt in retweets:\n",
        "        if rt not in rt_totals:\n",
        "            rt_totals[rt] = 1\n",
        "        else:\n",
        "            rt_totals[rt] += 1\n",
        "\n",
        "# Combine retweets with existing tweets\n",
        "for data_text in data:\n",
        "    original_text = data_text['text']\n",
        "\n",
        "    # Find number of retweets\n",
        "    tweet_key = (data_text['user']['screen_name'], original_text)\n",
        "    data_text['retweets'] = rt_totals.pop(tweet_key, 0)\n",
        "\n",
        "# Add retweeted tweets not in original dataset\n",
        "for tweet_key in list(rt_totals):\n",
        "    tweet = {'text': tweet_key[1], \\\n",
        "             'user': {'screen_name': tweet_key[0]}, \\\n",
        "             'retweets': rt_totals[tweet_key]}\n",
        "    data.append(tweet)\n",
        "\n",
        "preprocessed_data = []\n",
        "user_metadata = {}\n",
        "# loop to fix text{} in json data\n",
        "for data_text in data:\n",
        "    original_text = data_text['text']\n",
        "    \n",
        "    # Update user weights based on retweet value\n",
        "    user_name = data_text['user']['screen_name']\n",
        "    if user_name not in user_metadata:\n",
        "        user_metadata[user_name] = {'num_tweets': 0, 'rt_total': 0, 'rt_average': 0}\n",
        "    user_metadata[user_name]['num_tweets'] += 1\n",
        "    user_metadata[user_name]['rt_total'] += data_text['retweets']\n",
        "    user_metadata[user_name]['rt_average'] = user_metadata[user_name]['rt_total'] \\\n",
        "        / user_metadata[user_name]['num_tweets']\n",
        "\n",
        "    # Remove retweets\n",
        "    remove_retweets = re.sub(r'(?:\\A| )(?:(?:RT )|\\\")@\\w+:?.*', '', original_text)\n",
        "    #clean white space\n",
        "    white_space = \" \".join(remove_retweets.split())\n",
        "    #keep tabs/newline characters\n",
        "    tab_newline = re.sub(' +', ' ', white_space)\n",
        "    # lowcase letters\n",
        "    low_letter = tab_newline.lower()\n",
        "    #remove hashtags\n",
        "    hash_tag = re.sub(r'#', '', low_letter)\n",
        "    # Remove empty tweets\n",
        "    if hash_tag == '':\n",
        "        continue\n",
        "    #After pre-processing, information going back to orginal json data\n",
        "    data_text['text'] = hash_tag\n",
        "    preprocessed_data.append(data_text)\n",
        "\n",
        "# Save data\n",
        "with open('gg2013_user_metadata.json', 'w', encoding='utf-8') as output_file:\n",
        "    json.dump(user_metadata, output_file, indent=6)\n",
        "with open('gg2013_preprocessed.json', 'w', encoding='utf-8') as output_file:\n",
        "    json.dump(preprocessed_data, output_file, indent=6)\n",
        "\n",
        "\n",
        "\n",
        "###Later use\n",
        "    #spacy model to syntactic parsing\n",
        "    # spacy_output = spacy_model(low_letter)\n",
        "    # for token in spacy_output:\n",
        "    #     print(\n",
        "    #     token.text,\n",
        "    #     token.dep_,\n",
        "    #     token.head.text,\n",
        "    #     token.head.pos_,\n",
        "    #     [child for child in token.children]\n",
        "    #     )\n"
      ]
    }
  ],
  "metadata": {
    "colab": {
      "provenance": []
    },
    "kernelspec": {
      "display_name": "Python 3",
      "name": "python3"
    },
    "language_info": {
      "codemirror_mode": {
        "name": "ipython",
        "version": 3
      },
      "file_extension": ".py",
      "mimetype": "text/x-python",
      "name": "python",
      "nbconvert_exporter": "python",
      "pygments_lexer": "ipython3",
      "version": "3.10.2"
    }
  },
  "nbformat": 4,
  "nbformat_minor": 0
}
