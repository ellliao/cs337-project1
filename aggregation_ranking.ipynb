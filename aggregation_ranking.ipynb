{
 "cells": [
  {
   "cell_type": "code",
   "execution_count": 1,
   "metadata": {},
   "outputs": [],
   "source": [
    "# Import necessary packages\n",
    "import json\n",
    "\n",
    "# Open and read extracted tweets\n",
    "with open('parsed_data.json', 'r', encoding='utf-8') as extracted_file:\n",
    "    extracted_data = json.load(extracted_file)\n",
    "# Open and read user metadata\n",
    "with open('gg2013_user_metadata.json', 'r', encoding='utf-8') as metadata_file:\n",
    "    user_metadata = json.load(metadata_file)"
   ]
  },
  {
   "cell_type": "code",
   "execution_count": 2,
   "metadata": {},
   "outputs": [],
   "source": [
    "# Set up results object\n",
    "results = {}"
   ]
  },
  {
   "cell_type": "code",
   "execution_count": 4,
   "metadata": {},
   "outputs": [],
   "source": [
    "from collections import Counter\n",
    "\n",
    "# Ranking\n",
    "possible_hosts = Counter()\n",
    "for tweet in extracted_data:\n",
    "    # Calculate tweet weight based on user + tweet reliability\n",
    "    user = tweet['user']['screen_name'].lower()\n",
    "    t_weight = (tweet['retweets'] + 1) \\\n",
    "        + (user_metadata[user]['rt_average'] + 1)\n",
    "\n",
    "    # Host\n",
    "    if 'host_resolutions' in tweet:\n",
    "        hr = tweet['host_resolutions']\n",
    "        for host in hr['hosts']:\n",
    "            possible_hosts[host.lower()] += t_weight * hr['confidence']"
   ]
  },
  {
   "cell_type": "code",
   "execution_count": 5,
   "metadata": {},
   "outputs": [],
   "source": [
    "import difflib\n",
    "\n",
    "# Combine like host categories\n",
    "def combine_hosts(name, possible_hosts, orig_vals, len_penalty, diff):\n",
    "    if name not in possible_hosts:\n",
    "         return\n",
    "    \n",
    "    # Temporarily remove current name to avoid comparing it to itself\n",
    "    temp = possible_hosts.pop(name)\n",
    "\n",
    "    # Check for direct substrings\n",
    "    for other_name in possible_hosts:\n",
    "        # Prioritize longer string, unless large popularity difference\n",
    "        if (name in other_name \\\n",
    "            and orig_vals[name] * len_penalty < orig_vals[other_name]) \\\n",
    "                or (other_name in name \\\n",
    "                    and orig_vals[other_name] * len_penalty >= orig_vals[name]):\n",
    "                possible_hosts[other_name] += temp\n",
    "                return\n",
    "        elif name in other_name or other_name in name:\n",
    "            possible_hosts[name] = temp + possible_hosts[other_name]\n",
    "            del possible_hosts[other_name]\n",
    "            return\n",
    "\n",
    "    # If not a direct substring, check for misspellings\n",
    "    if name in possible_hosts:\n",
    "        closest = difflib.get_close_matches(name, possible_hosts.keys(), 1, diff)\n",
    "        if closest and orig_vals[name] > orig_vals[closest[0]]:\n",
    "            possible_hosts[name] = temp + possible_hosts[closest[0]]\n",
    "            del possible_hosts[closest[0]]\n",
    "            return\n",
    "        elif closest:\n",
    "            possible_hosts[closest[0]] += temp\n",
    "            return\n",
    "    \n",
    "    # Reinsert current name if it is distinct\n",
    "    possible_hosts[name] = temp\n",
    "\n",
    "# Retrieve the most likely combination of hosts\n",
    "def get_hosts(possible_hosts, threshold):\n",
    "    hosts = []\n",
    "    if not possible_hosts:\n",
    "        return hosts\n",
    "    \n",
    "    # Set the minimum score based on the given threshold\n",
    "    host_min = possible_hosts[0][1] * threshold\n",
    "    for host in possible_hosts:\n",
    "        # Insert all possible hosts above the minimum score\n",
    "        if host[1] > host_min:\n",
    "            hosts.append(host[0])\n",
    "        else:\n",
    "            break\n",
    "\n",
    "    return hosts"
   ]
  },
  {
   "cell_type": "code",
   "execution_count": 6,
   "metadata": {},
   "outputs": [],
   "source": [
    "# Aggregation\n",
    "hosts_in_order = possible_hosts.most_common()\n",
    "hosts_in_order.reverse()\n",
    "orig_vals = dict(hosts_in_order)\n",
    "for name in orig_vals:\n",
    "    combine_hosts(name, possible_hosts, orig_vals, 0.8, 0.8)\n",
    "\n",
    "results['hosts'] = get_hosts(possible_hosts.most_common(), 0.8)"
   ]
  },
  {
   "cell_type": "code",
   "execution_count": 7,
   "metadata": {},
   "outputs": [],
   "source": [
    "# Output\n",
    "with open('gg2013_results.json', 'w', encoding='utf-8') as output_file:\n",
    "    json.dump(results, output_file, indent=6)"
   ]
  }
 ],
 "metadata": {
  "kernelspec": {
   "display_name": "Python 3",
   "language": "python",
   "name": "python3"
  },
  "language_info": {
   "codemirror_mode": {
    "name": "ipython",
    "version": 3
   },
   "file_extension": ".py",
   "mimetype": "text/x-python",
   "name": "python",
   "nbconvert_exporter": "python",
   "pygments_lexer": "ipython3",
   "version": "3.10.2"
  }
 },
 "nbformat": 4,
 "nbformat_minor": 2
}
