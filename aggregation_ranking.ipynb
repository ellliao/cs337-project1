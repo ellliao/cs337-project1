{
 "cells": [
  {
   "cell_type": "code",
   "execution_count": 1,
   "metadata": {},
   "outputs": [],
   "source": [
    "import json\n",
    "\n",
    "# Open and read extracted tweets\n",
    "with open('parsed_data.json', 'r', encoding='utf-8') as extracted_file:\n",
    "    extracted_data = json.load(extracted_file)\n",
    "# Open and read user metadata\n",
    "with open('gg2013_user_metadata.json', 'r', encoding='utf-8') as metadata_file:\n",
    "    user_metadata = json.load(metadata_file)"
   ]
  },
  {
   "cell_type": "code",
   "execution_count": 2,
   "metadata": {},
   "outputs": [],
   "source": [
    "import datetime\n",
    "\n",
    "# Find ceremony year\n",
    "dt = datetime.datetime.fromtimestamp(extracted_data[0]['timestamp_ms'] / 1000.0,\n",
    "                                     tz=datetime.timezone.utc)\n",
    "year = dt.year"
   ]
  },
  {
   "cell_type": "code",
   "execution_count": 25,
   "metadata": {},
   "outputs": [],
   "source": [
    "import csv\n",
    "\n",
    "# Import IMDB data relevant to the ceremony year\n",
    "def get_imdb_title_basics():\n",
    "\n",
    "    title_basics = {}\n",
    "\n",
    "    with open('./imdb/title.basics.tsv') as imdb_file:\n",
    "        reader = csv.DictReader(imdb_file, delimiter='\\t', quotechar='\"')\n",
    "        for row in reader:\n",
    "            # Skip title with unknown start years\n",
    "            if row['startYear'] == \"\\\\N\":\n",
    "                continue\n",
    "\n",
    "            # Save title if it is from the current or previous year, OR if it is a\n",
    "            # TV series that ran at some point during that time\n",
    "            start_year = int(row['startYear'])\n",
    "            if (row['endYear'] == \"\\\\N\" \\\n",
    "                and (start_year == year or start_year == year-1 \\\n",
    "                    or (row['titleType'] == \"tvSeries\" and start_year < year))) \\\n",
    "            or (row['endYear'] != \"\\\\N\" and start_year <= year \\\n",
    "                and int(row['endYear']) >= year-1):\n",
    "                category = row['titleType']\n",
    "                if category not in title_basics:\n",
    "                    title_basics[category] = []\n",
    "                title = {'title': row['primaryTitle'], \\\n",
    "                         'genres': row['genres'].split(',')}\n",
    "                title_basics[category].append(title)\n",
    "\n",
    "    return title_basics"
   ]
  },
  {
   "cell_type": "code",
   "execution_count": 26,
   "metadata": {},
   "outputs": [],
   "source": [
    "title_basics = get_imdb_title_basics()"
   ]
  },
  {
   "cell_type": "code",
   "execution_count": 27,
   "metadata": {},
   "outputs": [],
   "source": [
    "# Set up results object\n",
    "results = {}"
   ]
  },
  {
   "cell_type": "code",
   "execution_count": 28,
   "metadata": {},
   "outputs": [],
   "source": [
    "from collections import Counter\n",
    "\n",
    "# Ranking\n",
    "possible_hosts = Counter()\n",
    "for tweet in extracted_data:\n",
    "    # Calculate tweet weight based on user + tweet reliability\n",
    "    user = tweet['user']['screen_name'].lower()\n",
    "    t_weight = (tweet['retweets'] + 1) \\\n",
    "        + (user_metadata[user]['rt_average'] + 1)\n",
    "\n",
    "    # Host\n",
    "    if 'host_resolutions' in tweet:\n",
    "        hr = tweet['host_resolutions']\n",
    "        for host in hr['hosts']:\n",
    "            possible_hosts[host.lower()] += t_weight * hr['confidence']"
   ]
  },
  {
   "cell_type": "code",
   "execution_count": 29,
   "metadata": {},
   "outputs": [],
   "source": [
    "import difflib\n",
    "\n",
    "# Combine like name categories\n",
    "def combine_names(name, possible_names, orig_vals, len_penalty, diff):\n",
    "    if name not in possible_names:\n",
    "         return\n",
    "    \n",
    "    # Temporarily remove current name to avoid comparing it to itself\n",
    "    temp = possible_names.pop(name)\n",
    "\n",
    "    # Check for direct substrings\n",
    "    for other_name in possible_names:\n",
    "        # Prioritize longer string, unless large popularity difference\n",
    "        if (name in other_name \\\n",
    "            and orig_vals[name] * len_penalty < orig_vals[other_name]) \\\n",
    "                or (other_name in name \\\n",
    "                    and orig_vals[other_name] * len_penalty >= orig_vals[name]):\n",
    "                possible_names[other_name] += temp\n",
    "                return\n",
    "        elif name in other_name or other_name in name:\n",
    "            possible_names[name] = temp + possible_names[other_name]\n",
    "            del possible_names[other_name]\n",
    "            return\n",
    "\n",
    "    # If not a direct substring, check for misspellings\n",
    "    if name in possible_names:\n",
    "        closest = difflib.get_close_matches(name, possible_names.keys(), 1, diff)\n",
    "        if closest and orig_vals[name] > orig_vals[closest[0]]:\n",
    "            possible_names[name] = temp + possible_names[closest[0]]\n",
    "            del possible_names[closest[0]]\n",
    "            return\n",
    "        elif closest:\n",
    "            possible_names[closest[0]] += temp\n",
    "            return\n",
    "    \n",
    "    # Reinsert current name if it is distinct\n",
    "    possible_names[name] = temp\n",
    "\n",
    "# Retrieve the most likely combination of names from a given set\n",
    "def get_names(possible_names, threshold):\n",
    "    names = []\n",
    "    if not possible_names:\n",
    "        return names\n",
    "    \n",
    "    # Set the minimum score based on the given threshold\n",
    "    min_score = possible_names[0][1] * threshold\n",
    "    for name in possible_names:\n",
    "        # Insert all possible hosts above the minimum score\n",
    "        if name[1] > min_score:\n",
    "            names.append(name[0])\n",
    "        else:\n",
    "            break\n",
    "\n",
    "    return names"
   ]
  },
  {
   "cell_type": "code",
   "execution_count": 30,
   "metadata": {},
   "outputs": [],
   "source": [
    "# Aggregation\n",
    "hosts_in_order = possible_hosts.most_common()\n",
    "hosts_in_order.reverse()\n",
    "orig_vals = dict(hosts_in_order)\n",
    "for name in orig_vals:\n",
    "    combine_names(name, possible_hosts, orig_vals, 0.8, 0.8)\n",
    "\n",
    "results['hosts'] = get_names(possible_hosts.most_common(), 0.8)"
   ]
  },
  {
   "cell_type": "code",
   "execution_count": 31,
   "metadata": {},
   "outputs": [],
   "source": [
    "# Output\n",
    "with open('gg2013_results.json', 'w', encoding='utf-8') as output_file:\n",
    "    json.dump(results, output_file, indent=6)"
   ]
  }
 ],
 "metadata": {
  "kernelspec": {
   "display_name": "Python 3",
   "language": "python",
   "name": "python3"
  },
  "language_info": {
   "codemirror_mode": {
    "name": "ipython",
    "version": 3
   },
   "file_extension": ".py",
   "mimetype": "text/x-python",
   "name": "python",
   "nbconvert_exporter": "python",
   "pygments_lexer": "ipython3",
   "version": "3.10.2"
  }
 },
 "nbformat": 4,
 "nbformat_minor": 2
}
