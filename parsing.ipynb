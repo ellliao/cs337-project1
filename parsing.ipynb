{
 "cells": [
  {
   "cell_type": "code",
   "execution_count": 1,
   "id": "02f073ff",
   "metadata": {},
   "outputs": [],
   "source": [
    "import json\n",
    "import re\n",
    "# from nltk.tokenize import sent_tokenize, word_tokenize\n"
   ]
  },
  {
   "cell_type": "code",
   "execution_count": 2,
   "id": "919bad8b",
   "metadata": {},
   "outputs": [],
   "source": [
    "def load_processed_tweets_from_json(file_path):\n",
    "    with open(file_path, 'r') as file:\n",
    "        data = json.load(file)\n",
    "    return data\n",
    "\n",
    "data = load_processed_tweets_from_json(\"gg2013_preprocessed.json\")"
   ]
  },
  {
   "cell_type": "code",
   "execution_count": 3,
   "id": "3dad3692",
   "metadata": {},
   "outputs": [],
   "source": [
    "def clean_retweet_text(text):\n",
    "    \"\"\"Removes the 'rt @username:' prefix from a retweet, leaving only the main content.\"\"\"\n",
    "    # Check if the text starts with 'rt @'\n",
    "    if text.startswith(\"rt @\"):\n",
    "        # Find the position of the first colon after 'rt @username'\n",
    "        colon_position = text.find(\":\")\n",
    "        # If a colon exists, return the text after it; otherwise, return the full string\n",
    "        if colon_position != -1:\n",
    "            return text[colon_position + 1:].strip()\n",
    "    return text.strip()"
   ]
  },
  {
   "cell_type": "code",
   "execution_count": 4,
   "id": "38b904ae",
   "metadata": {},
   "outputs": [
    {
     "name": "stderr",
     "output_type": "stream",
     "text": [
      "[nltk_data] Error loading words: <urlopen error [SSL:\n",
      "[nltk_data]     CERTIFICATE_VERIFY_FAILED] certificate verify failed:\n",
      "[nltk_data]     unable to get local issuer certificate (_ssl.c:997)>\n"
     ]
    }
   ],
   "source": [
    "\n",
    "import nltk\n",
    "from nltk.corpus import words\n",
    "nltk.download('words')\n",
    "\n",
    "award_name_allowlist = [\"drama\", \"musical\", \"comedy\", \"animated\", \"animation\", \"motion\", \"television\", \"series\"]\n",
    "\n",
    "def extract_award_name(sentence):\n",
    "    \"\"\"Extracts the award name and winner from the sentence based on specified conditions.\"\"\"\n",
    "    # Find all hyphen and colon positions\n",
    "    split_positions = [i for i, char in enumerate(sentence) if char in \"-:\"]\n",
    "    award_name = None\n",
    "    winner = None\n",
    "\n",
    "    for index, pos in enumerate(split_positions):\n",
    "        # Split the sentence at the current hyphen/colon position\n",
    "\n",
    "        if index >= 1:\n",
    "            left_part = sentence[split_positions[index - 1] + 1: split_positions[index]].strip()\n",
    "        else:\n",
    "            left_part = sentence[:pos].strip()\n",
    "        right_part = sentence[pos + 1:].strip()\n",
    "\n",
    "        # Check if there's something on the right\n",
    "        if not right_part:\n",
    "            return award_name, winner\n",
    "\n",
    "        # Split left part into words\n",
    "        left_words = left_part.split()\n",
    "\n",
    "        # Check for \"best\" or \"award\" in left part\n",
    "        if any(word.lower() in left_words for word in ['best', 'award']):\n",
    "\n",
    "            # Determine the right portion based on allowlist keywords\n",
    "            if index < len(split_positions) - 1:\n",
    "                next_segment = sentence[pos + 1:split_positions[index + 1]].strip()\n",
    "            else:\n",
    "                next_segment = right_part\n",
    "\n",
    "            # Assign award name and winner based on allowlist\n",
    "            if any(word.lower() in next_segment.lower() for word in award_name_allowlist):\n",
    "                award_name = f\"{left_part} - {next_segment}\".strip()\n",
    "                # Capture the winner if more splits remain\n",
    "                if index < len(split_positions) - 2:\n",
    "                    winner = sentence[split_positions[index + 1] + 1: split_positions[index + 2]].strip()\n",
    "            else:\n",
    "                award_name = left_part\n",
    "                winner = next_segment\n",
    "            break\n",
    "\n",
    "    return [award_name, winner]\n",
    "\n",
    "\n",
    "\n",
    "\n",
    "\n",
    "\n",
    "\n",
    "\n",
    "\n",
    "\n"
   ]
  },
  {
   "cell_type": "code",
   "execution_count": 5,
   "id": "4d65961a",
   "metadata": {},
   "outputs": [],
   "source": [
    "def extract_winner_info(sentence):\n",
    "    \"\"\"Check if the sentence is in the format '... wins ...' with 'best' or 'award' in the second part.\"\"\"\n",
    "\n",
    "    pattern = r'^(.*?)(wins|receives)(.*?)(best|award)(.*?)$'\n",
    "    match = re.search(pattern, sentence, re.IGNORECASE)\n",
    "\n",
    "    if match:\n",
    "\n",
    "        first_part = match.group(1).strip()\n",
    "        second_part = match.group(3).strip() + \" \" + match.group(\n",
    "            4).strip()  + match.group(5).strip()\n",
    "        return [first_part, second_part]\n",
    "\n",
    "    return []\n",
    "\n",
    "def get_combinations(input_string):\n",
    "   \n",
    "    words = input_string.split()\n",
    "    combinations = []\n",
    "    \n",
    "    \n",
    "\n",
    "    for j in range(1, len(words) + 1):\n",
    "        \n",
    "        combinations.append(' '.join(words[0:j]))\n",
    "    \n",
    "    return combinations"
   ]
  },
  {
   "cell_type": "code",
   "execution_count": 6,
   "id": "330855f7",
   "metadata": {},
   "outputs": [
    {
     "ename": "AttributeError",
     "evalue": "'NoneType' object has no attribute 'split'",
     "output_type": "error",
     "traceback": [
      "\u001b[0;31m---------------------------------------------------------------------------\u001b[0m",
      "\u001b[0;31mAttributeError\u001b[0m                            Traceback (most recent call last)",
      "Cell \u001b[0;32mIn[6], line 21\u001b[0m\n\u001b[1;32m     17\u001b[0m award_name \u001b[38;5;241m=\u001b[39m extract_award_name(tweet_text)\n\u001b[1;32m     19\u001b[0m \u001b[38;5;28;01mif\u001b[39;00m award_name:\n\u001b[1;32m     20\u001b[0m     win_resolutions \u001b[38;5;241m=\u001b[39m {\n\u001b[0;32m---> 21\u001b[0m         \u001b[38;5;124m\"\u001b[39m\u001b[38;5;124maward\u001b[39m\u001b[38;5;124m\"\u001b[39m : \u001b[43mget_combinations\u001b[49m\u001b[43m(\u001b[49m\u001b[43maward_name\u001b[49m\u001b[43m[\u001b[49m\u001b[38;5;241;43m0\u001b[39;49m\u001b[43m]\u001b[49m\u001b[43m)\u001b[49m,\n\u001b[1;32m     22\u001b[0m         \u001b[38;5;124m\"\u001b[39m\u001b[38;5;124mwinner\u001b[39m\u001b[38;5;124m\"\u001b[39m: [award_name[\u001b[38;5;241m1\u001b[39m]],\n\u001b[1;32m     23\u001b[0m         \u001b[38;5;124m\"\u001b[39m\u001b[38;5;124mconfidence\u001b[39m\u001b[38;5;124m\"\u001b[39m: \u001b[38;5;241m0.5\u001b[39m\n\u001b[1;32m     24\u001b[0m         \n\u001b[1;32m     25\u001b[0m     }\n\u001b[1;32m     26\u001b[0m     tweet[\u001b[38;5;124m\"\u001b[39m\u001b[38;5;124mwin_resolutions\u001b[39m\u001b[38;5;124m\"\u001b[39m] \u001b[38;5;241m=\u001b[39m win_resolutions\n",
      "Cell \u001b[0;32mIn[5], line 18\u001b[0m, in \u001b[0;36mget_combinations\u001b[0;34m(input_string)\u001b[0m\n\u001b[1;32m     16\u001b[0m \u001b[38;5;28;01mdef\u001b[39;00m \u001b[38;5;21mget_combinations\u001b[39m(input_string):\n\u001b[0;32m---> 18\u001b[0m     words \u001b[38;5;241m=\u001b[39m \u001b[43minput_string\u001b[49m\u001b[38;5;241;43m.\u001b[39;49m\u001b[43msplit\u001b[49m()\n\u001b[1;32m     19\u001b[0m     combinations \u001b[38;5;241m=\u001b[39m []\n\u001b[1;32m     23\u001b[0m     \u001b[38;5;28;01mfor\u001b[39;00m j \u001b[38;5;129;01min\u001b[39;00m \u001b[38;5;28mrange\u001b[39m(\u001b[38;5;241m1\u001b[39m, \u001b[38;5;28mlen\u001b[39m(words) \u001b[38;5;241m+\u001b[39m \u001b[38;5;241m1\u001b[39m):\n",
      "\u001b[0;31mAttributeError\u001b[0m: 'NoneType' object has no attribute 'split'"
     ]
    }
   ],
   "source": [
    "for index, tweet in enumerate(data):\n",
    "    \n",
    "    tweet_text = tweet['text']\n",
    "    \n",
    "    award_name = extract_winner_info(tweet_text)\n",
    "    \n",
    "    if award_name:\n",
    "        win_resolutions = {\n",
    "            \"award\" : get_combinations(award_name[1]),\n",
    "            \"winner\": [award_name[0]],\n",
    "            \"confidence\": 0.7\n",
    "            \n",
    "        }\n",
    "        tweet[\"win_resolutions\"] = win_resolutions\n",
    "        \n",
    "        continue\n",
    "    award_name = extract_award_name(tweet_text)\n",
    "    \n",
    "    if award_name:\n",
    "        win_resolutions = {\n",
    "            \"award\" : get_combinations(award_name[0]),\n",
    "            \"winner\": [award_name[1]],\n",
    "            \"confidence\": 0.5\n",
    "            \n",
    "        }\n",
    "        tweet[\"win_resolutions\"] = win_resolutions\n",
    "\n",
    "        \n",
    "        "
   ]
  },
  {
   "cell_type": "code",
   "execution_count": 6,
   "id": "011d343b",
   "metadata": {},
   "outputs": [
    {
     "name": "stdout",
     "output_type": "stream",
     "text": [
      "Requirement already satisfied: blis in /Library/Frameworks/Python.framework/Versions/3.10/lib/python3.10/site-packages (1.0.1)\n",
      "Requirement already satisfied: numpy<3.0.0,>=2.0.0 in /Library/Frameworks/Python.framework/Versions/3.10/lib/python3.10/site-packages (from blis) (2.0.2)\n",
      "Note: you may need to restart the kernel to use updated packages.\n"
     ]
    }
   ],
   "source": [
    "%pip install blis"
   ]
  },
  {
   "cell_type": "code",
   "execution_count": 7,
   "id": "98ac428f",
   "metadata": {},
   "outputs": [
    {
     "name": "stdout",
     "output_type": "stream",
     "text": [
      "Requirement already satisfied: langdetect in /Library/Frameworks/Python.framework/Versions/3.10/lib/python3.10/site-packages (1.0.9)\n",
      "Requirement already satisfied: six in /Users/ellen/Library/Python/3.10/lib/python/site-packages (from langdetect) (1.16.0)\n",
      "Note: you may need to restart the kernel to use updated packages.\n"
     ]
    }
   ],
   "source": [
    "pip install langdetect"
   ]
  },
  {
   "cell_type": "code",
   "execution_count": 8,
   "id": "fd864880",
   "metadata": {},
   "outputs": [
    {
     "name": "stdout",
     "output_type": "stream",
     "text": [
      "/System/Library/Frameworks/Python.framework/Versions/2.7/Resources/Python.app/Contents/MacOS/Python: No module named spacy\n"
     ]
    }
   ],
   "source": [
    "!python -m spacy download en_core_web_sm\n"
   ]
  },
  {
   "cell_type": "code",
   "execution_count": 7,
   "id": "d036e1d1",
   "metadata": {},
   "outputs": [],
   "source": [
    "import spacy\n",
    "from langdetect import detect, DetectorFactory\n",
    "DetectorFactory.seed = 0\n",
    "nlp = spacy.load(\"en_core_web_sm\")\n",
    "\n",
    "def get_part_before_host(sentence):\n",
    "    # pattern to capture only the part before the hosting-related verbs\n",
    "    pattern = r\"(.*?)(?:\\s+(?:is|are)\\s+)?(?:hosts|host|are hosting|is hosting)\"\n",
    "\n",
    "    \n",
    "    match = re.search(pattern, sentence, re.IGNORECASE)\n",
    "\n",
    "    if match:\n",
    "        # Return the part before the hosting verb\n",
    "        return match.group(1).strip()\n",
    "\n",
    "    return None\n",
    "\n",
    "\n",
    "def find_hosts_from_text(text):\n",
    "\n",
    "    # Skip if no mention of host in text, or about next year\n",
    "    if re.search(r'(?:\\bhost)|(?:host(?:s|ed|ing)?\\b)', text, re.IGNORECASE) == None \\\n",
    "        or re.search(r'\\bnext\\b', text, re.IGNORECASE) != None:\n",
    "        return {}\n",
    "    # Skip if not English\n",
    "    try:\n",
    "        if detect(text) != 'en':\n",
    "            return {}\n",
    "    except:\n",
    "        return {}\n",
    "\n",
    "    doc = nlp(text)\n",
    "    hosts = []\n",
    "    confidence = 0.5\n",
    "\n",
    "    for sentence in doc.sents:\n",
    "        # Find the people mentioned in the tweet\n",
    "        potential_hosts = [entity for entity in doc.ents \\\n",
    "                           if entity.label_ == \"PERSON\"]\n",
    "        # Add to hosts\n",
    "        hosts.extend([host.text for host in potential_hosts])\n",
    "\n",
    "        # Find the root verb of the sentence\n",
    "        root_verb = [token for token in sentence if token.dep_ == \"ROOT\"]\n",
    "\n",
    "        if root_verb and root_verb[0].lemma_ == \"host\":\n",
    "            confidence = 0.7\n",
    "            break\n",
    "\n",
    "            # # Get the part before the hosting verb using regex function\n",
    "            # sentence_text = str(sentence)\n",
    "            # before_host = get_part_before_host(sentence_text)\n",
    "\n",
    "            # if before_host:\n",
    "            #     # Split the part by \"and\" or \"&\" to extract multiple hosts\n",
    "                \n",
    "            #     potential_hosts = re.split(r'\\s*(?:and|&|/|\\\\)\\s*', before_host)\n",
    "\n",
    "            #     hosts.extend(potential_hosts)\n",
    "\n",
    "    return {'hosts': hosts, 'confidence': confidence}"
   ]
  },
  {
   "cell_type": "code",
   "execution_count": 8,
   "id": "da3f9f58",
   "metadata": {},
   "outputs": [],
   "source": [
    "have_host_resolutions = []\n",
    "for index, tweet in enumerate(data):\n",
    "    \n",
    "    tweet_text = tweet['text']\n",
    "    \n",
    "    \n",
    "    host_resolutions = find_hosts_from_text(tweet_text)\n",
    "    \n",
    "    if host_resolutions:\n",
    "        have_host_resolutions.append(index)\n",
    "        tweet[\"host_resolutions\"] = host_resolutions"
   ]
  },
  {
   "cell_type": "code",
   "execution_count": null,
   "id": "f80ee0e8",
   "metadata": {},
   "outputs": [],
   "source": [
    "def parse_presenters(tweet):\n",
    "    \n",
    "    pattern = r\"(.*?)(?<!re)(?:\\bpresent\\b|\\bpresents\\b|\\bpresenting\\b|\\bpresenting for\\b)\\s+(.*?(?:best).*)\"\n",
    "    match = re.search(pattern, tweet, re.IGNORECASE)\n",
    "\n",
    "    if match:\n",
    "        presenters = match.group(1).strip()\n",
    "        award = match.group(2).strip()\n",
    "\n",
    "        # Clean the award string\n",
    "        # Remove any words before \"best\"\n",
    "        award = re.sub(r\".*?\\bbest\\b\", \"best\", award, flags=re.IGNORECASE)\n",
    "\n",
    "        # Remove any words including and after \"at,\" \"and,\" or \"for\"\n",
    "        award = re.sub(r\"\\s+(at|and|for|to)\\b.*\", \"\", award, flags=re.IGNORECASE)\n",
    "\n",
    "        return [award.strip(), presenters]\n",
    "\n",
    "    # Return None if no match is found\n",
    "    return [None, None]"
   ]
  },
  {
   "cell_type": "code",
   "execution_count": null,
   "id": "d129aacb",
   "metadata": {},
   "outputs": [],
   "source": [
    "def get_nominees(sentence):\n",
    "    # Define the regex pattern to match \"nominee/nominated/nominees ... ... best\"\n",
    "    pattern = r\"(.*)\\b(?:nominee|nominated|nominees)\\b(.*?\\bbest\\b.*)\"\n",
    "    # Define a list of exclusion words/phrases\n",
    "    exclusions = r\"\\b(?:not|should've|should have|wasn't|introduce|present)\\b\"\n",
    "\n",
    "    # Check if any exclusion word is present\n",
    "    if re.search(exclusions, sentence, re.IGNORECASE):\n",
    "        return None\n",
    "\n",
    "    # Search for the nominee/nominated/nominees ... ... best pattern\n",
    "    match = re.search(pattern, sentence, re.IGNORECASE)\n",
    "    if match:\n",
    "        # Clean and separate the nominee part and award name\n",
    "        before_nominee = re.sub(r\"\\b(?:nominee|nominated|nominees)\\b\", \"\", match.group(1), flags=re.IGNORECASE).strip()\n",
    "        award_name = re.sub(r\".*?\\bbest\\b\", \"best\", match.group(2), flags=re.IGNORECASE).strip()\n",
    "\n",
    "        return before_nominee, award_name\n",
    "\n",
    "    return None"
   ]
  },
  {
   "cell_type": "code",
   "execution_count": 9,
   "id": "fc20494e",
   "metadata": {},
   "outputs": [],
   "source": [
    "filename = 'parsed_data.json'\n",
    "\n",
    "# Write data to JSON file\n",
    "with open(filename, 'w') as json_file:\n",
    "    json.dump(data, json_file, indent=4)"
   ]
  }
 ],
 "metadata": {
  "kernelspec": {
   "display_name": "Python 3",
   "language": "python",
   "name": "python3"
  },
  "language_info": {
   "codemirror_mode": {
    "name": "ipython",
    "version": 3
   },
   "file_extension": ".py",
   "mimetype": "text/x-python",
   "name": "python",
   "nbconvert_exporter": "python",
   "pygments_lexer": "ipython3",
   "version": "3.10.2"
  }
 },
 "nbformat": 4,
 "nbformat_minor": 5
}
