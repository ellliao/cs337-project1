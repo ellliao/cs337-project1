{
 "cells": [
  {
   "cell_type": "code",
   "execution_count": 1,
   "id": "02f073ff",
   "metadata": {},
   "outputs": [],
   "source": [
    "import json\n",
    "import re\n",
    "from nltk.tokenize import sent_tokenize, word_tokenize\n"
   ]
  },
  {
   "cell_type": "code",
   "execution_count": 3,
   "id": "919bad8b",
   "metadata": {},
   "outputs": [],
   "source": [
    "def load_processed_tweets_from_json(file_path):\n",
    "    with open(file_path, 'r') as file:\n",
    "        data = json.load(file)\n",
    "    return data\n",
    "\n",
    "data = load_processed_tweets_from_json(\"gg2013_preprocessed.json\")"
   ]
  },
  {
   "cell_type": "code",
   "execution_count": 7,
   "id": "38b904ae",
   "metadata": {},
   "outputs": [
    {
     "name": "stdout",
     "output_type": "stream",
     "text": [
      "['best supporting actor in a motion picture', ' christoph waltz ']\n",
      "['best supporting actor in a motion picture - comedy or picture', ' christoph waltz ']\n",
      "['best supporting actor in a motion picture', ' christoph waltz']\n"
     ]
    },
    {
     "name": "stderr",
     "output_type": "stream",
     "text": [
      "[nltk_data] Downloading package words to\n",
      "[nltk_data]     C:\\Users\\18723\\AppData\\Roaming\\nltk_data...\n",
      "[nltk_data]   Package words is already up-to-date!\n"
     ]
    }
   ],
   "source": [
    "\n",
    "import nltk\n",
    "from nltk.corpus import words\n",
    "nltk.download('words')\n",
    "\n",
    "english_words = set(words.words())\n",
    "\n",
    "def is_dictionary_word(string):\n",
    "    \n",
    "    if string == \"-\":\n",
    "        return True\n",
    "    return string.lower() in english_words\n",
    "\n",
    "\n",
    "def extract_award_name(sentence):\n",
    "    \"\"\"Extracts the part of the sentence based on specified conditions.\"\"\"\n",
    "    # Find all hyphen positions\n",
    "    hyphen_positions = [i for i, char in enumerate(sentence) if char == '-']\n",
    "    res = None\n",
    "\n",
    "    for index, pos in enumerate(hyphen_positions):\n",
    "        # Split the sentence at the current hyphen position\n",
    "        left_part = sentence[:pos].strip()\n",
    "        right_part = sentence[pos + 1:].strip()\n",
    "\n",
    "        # Check if there's something on the right\n",
    "        if not right_part:\n",
    "            return res\n",
    "\n",
    "        # Split left part into words\n",
    "        left_words = left_part.split()\n",
    "\n",
    "        # Check conditions\n",
    "        if (any(word.lower() in left_words for word in ['best', 'award']) and\n",
    "            all(is_dictionary_word(word) for word in left_words if word)):  # Ensure no empty strings are checked\n",
    "            \n",
    "            if index < len(hyphen_positions) - 1:\n",
    "                rr = sentence[pos+1:hyphen_positions[index + 1]]\n",
    "            else:\n",
    "                rr = sentence[pos+1:]\n",
    "\n",
    "            res = [left_part.strip(), rr ]\n",
    "        else:\n",
    "            return res\n",
    "\n",
    "    return res\n",
    "\n",
    "\n",
    "print(extract_award_name(\"best supporting actor in a motion picture - christoph waltz - django unchained - goldenglobes\"))\n",
    "print(extract_award_name(\"best supporting actor in a motion picture - comedy or picture - christoph waltz - django unchained - goldenglobes\"))\n",
    "print(extract_award_name(\"best supporting actor in a motion picture - christoph waltz\"))\n",
    "\n",
    "\n",
    "\n",
    "\n",
    "\n"
   ]
  },
  {
   "cell_type": "code",
   "execution_count": 11,
   "id": "4d65961a",
   "metadata": {},
   "outputs": [],
   "source": [
    "def extract_winner_info(sentence):\n",
    "    \"\"\"Check if the sentence is in the format '... wins ...' with 'best' or 'award' in the second part.\"\"\"\n",
    "\n",
    "    pattern = r'^(.*?)(wins|receives)(.*?)(best|award)(.*?)$'\n",
    "    match = re.search(pattern, sentence, re.IGNORECASE)\n",
    "\n",
    "    if match:\n",
    "\n",
    "        first_part = match.group(1).strip()\n",
    "        second_part = match.group(3).strip() + \" \" + match.group(\n",
    "            4).strip()  + match.group(5).strip()\n",
    "        return [first_part, second_part]\n",
    "\n",
    "    return []\n",
    "\n",
    "def get_combinations(input_string):\n",
    "   \n",
    "    words = input_string.split()\n",
    "    combinations = []\n",
    "    \n",
    "    \n",
    "\n",
    "    for j in range(1, len(words) + 1):\n",
    "        \n",
    "        combinations.append(' '.join(words[0:j]))\n",
    "    \n",
    "    return combinations"
   ]
  },
  {
   "cell_type": "code",
   "execution_count": 18,
   "id": "330855f7",
   "metadata": {},
   "outputs": [],
   "source": [
    "for index, tweet in enumerate(data):\n",
    "    \n",
    "    tweet_text = tweet['text']\n",
    "    \n",
    "    award_name = extract_winner_info(tweet_text)\n",
    "    \n",
    "    if award_name:\n",
    "        win_resolutions = {\n",
    "            \"award\" : get_combinations(award_name[1]),\n",
    "            \"winner\": [award_name[0]],\n",
    "            \"confidence\": 0.7\n",
    "            \n",
    "        }\n",
    "        tweet[\"win_resolutions\"] = win_resolutions\n",
    "        \n",
    "        continue\n",
    "    award_name = extract_award_name(tweet_text)\n",
    "    \n",
    "    if award_name:\n",
    "        win_resolutions = {\n",
    "            \"award\" : get_combinations(award_name[0]),\n",
    "            \"winner\": [award_name[1]],\n",
    "            \"confidence\": 0.5\n",
    "            \n",
    "        }\n",
    "        tweet[\"win_resolutions\"] = win_resolutions\n",
    "\n",
    "        \n",
    "        "
   ]
  },
  {
   "cell_type": "code",
   "execution_count": 19,
   "id": "a576a7ba",
   "metadata": {},
   "outputs": [],
   "source": [
    "filename = 'parsed_data.json'\n",
    "\n",
    "# Write data to JSON file\n",
    "with open(filename, 'w') as json_file:\n",
    "    json.dump(data, json_file, indent=4)  "
   ]
  }
 ],
 "metadata": {
  "kernelspec": {
   "display_name": "Python 3",
   "language": "python",
   "name": "python3"
  },
  "language_info": {
   "codemirror_mode": {
    "name": "ipython",
    "version": 3
   },
   "file_extension": ".py",
   "mimetype": "text/x-python",
   "name": "python",
   "nbconvert_exporter": "python",
   "pygments_lexer": "ipython3",
   "version": "3.11.3"
  }
 },
 "nbformat": 4,
 "nbformat_minor": 5
}
