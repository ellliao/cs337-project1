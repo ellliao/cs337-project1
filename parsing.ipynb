{
 "cells": [
  {
   "cell_type": "code",
   "execution_count": 1,
   "id": "02f073ff",
   "metadata": {},
   "outputs": [],
   "source": [
    "import json\n",
    "import re\n",
    "# from nltk.tokenize import sent_tokenize, word_tokenize\n"
   ]
  },
  {
   "cell_type": "code",
   "execution_count": 2,
   "id": "919bad8b",
   "metadata": {},
   "outputs": [],
   "source": [
    "def load_processed_tweets_from_json(file_path):\n",
    "    with open(file_path, 'r') as file:\n",
    "        data = json.load(file)\n",
    "    return data\n",
    "\n",
    "data = load_processed_tweets_from_json(\"gg2013_preprocessed.json\")"
   ]
  },
  {
   "cell_type": "code",
   "execution_count": 3,
   "id": "38b904ae",
   "metadata": {},
   "outputs": [
    {
     "name": "stdout",
     "output_type": "stream",
     "text": [
      "['best supporting actor in a motion picture', ' christoph waltz ']\n",
      "['best supporting actor in a motion picture - comedy or picture', ' christoph waltz ']\n",
      "['best supporting actor in a motion picture', ' christoph waltz']\n"
     ]
    },
    {
     "name": "stderr",
     "output_type": "stream",
     "text": [
      "[nltk_data] Error loading words: <urlopen error [SSL:\n",
      "[nltk_data]     CERTIFICATE_VERIFY_FAILED] certificate verify failed:\n",
      "[nltk_data]     unable to get local issuer certificate (_ssl.c:997)>\n"
     ]
    }
   ],
   "source": [
    "\n",
    "import nltk\n",
    "from nltk.corpus import words\n",
    "nltk.download('words')\n",
    "\n",
    "english_words = set(words.words())\n",
    "\n",
    "def is_dictionary_word(string):\n",
    "    \n",
    "    if string == \"-\":\n",
    "        return True\n",
    "    return string.lower() in english_words\n",
    "\n",
    "\n",
    "def extract_award_name(sentence):\n",
    "    \"\"\"Extracts the part of the sentence based on specified conditions.\"\"\"\n",
    "    # Find all hyphen positions\n",
    "    hyphen_positions = [i for i, char in enumerate(sentence) if char == '-']\n",
    "    res = None\n",
    "\n",
    "    for index, pos in enumerate(hyphen_positions):\n",
    "        # Split the sentence at the current hyphen position\n",
    "        left_part = sentence[:pos].strip()\n",
    "        right_part = sentence[pos + 1:].strip()\n",
    "\n",
    "        # Check if there's something on the right\n",
    "        if not right_part:\n",
    "            return res\n",
    "\n",
    "        # Split left part into words\n",
    "        left_words = left_part.split()\n",
    "\n",
    "        # Check conditions\n",
    "        if (any(word.lower() in left_words for word in ['best', 'award']) and\n",
    "            all(is_dictionary_word(word) for word in left_words if word)):  # Ensure no empty strings are checked\n",
    "            \n",
    "            if index < len(hyphen_positions) - 1:\n",
    "                rr = sentence[pos+1:hyphen_positions[index + 1]]\n",
    "            else:\n",
    "                rr = sentence[pos+1:]\n",
    "\n",
    "            res = [left_part.strip(), rr ]\n",
    "        else:\n",
    "            return res\n",
    "\n",
    "    return res\n",
    "\n",
    "\n",
    "print(extract_award_name(\"best supporting actor in a motion picture - christoph waltz - django unchained - goldenglobes\"))\n",
    "print(extract_award_name(\"best supporting actor in a motion picture - comedy or picture - christoph waltz - django unchained - goldenglobes\"))\n",
    "print(extract_award_name(\"best supporting actor in a motion picture - christoph waltz\"))\n",
    "\n",
    "\n",
    "\n",
    "\n",
    "\n"
   ]
  },
  {
   "cell_type": "code",
   "execution_count": 4,
   "id": "4d65961a",
   "metadata": {},
   "outputs": [],
   "source": [
    "def extract_winner_info(sentence):\n",
    "    \"\"\"Check if the sentence is in the format '... wins ...' with 'best' or 'award' in the second part.\"\"\"\n",
    "\n",
    "    pattern = r'^(.*?)(wins|receives)(.*?)(best|award)(.*?)$'\n",
    "    match = re.search(pattern, sentence, re.IGNORECASE)\n",
    "\n",
    "    if match:\n",
    "\n",
    "        first_part = match.group(1).strip()\n",
    "        second_part = match.group(3).strip() + \" \" + match.group(\n",
    "            4).strip()  + match.group(5).strip()\n",
    "        return [first_part, second_part]\n",
    "\n",
    "    return []\n",
    "\n",
    "def get_combinations(input_string):\n",
    "   \n",
    "    words = input_string.split()\n",
    "    combinations = []\n",
    "    \n",
    "    \n",
    "\n",
    "    for j in range(1, len(words) + 1):\n",
    "        \n",
    "        combinations.append(' '.join(words[0:j]))\n",
    "    \n",
    "    return combinations"
   ]
  },
  {
   "cell_type": "code",
   "execution_count": 5,
   "id": "330855f7",
   "metadata": {},
   "outputs": [],
   "source": [
    "for index, tweet in enumerate(data):\n",
    "    \n",
    "    tweet_text = tweet['text']\n",
    "    \n",
    "    award_name = extract_winner_info(tweet_text)\n",
    "    \n",
    "    if award_name:\n",
    "        win_resolutions = {\n",
    "            \"award\" : get_combinations(award_name[1]),\n",
    "            \"winner\": [award_name[0]],\n",
    "            \"confidence\": 0.7\n",
    "            \n",
    "        }\n",
    "        tweet[\"win_resolutions\"] = win_resolutions\n",
    "        \n",
    "        continue\n",
    "    award_name = extract_award_name(tweet_text)\n",
    "    \n",
    "    if award_name:\n",
    "        win_resolutions = {\n",
    "            \"award\" : get_combinations(award_name[0]),\n",
    "            \"winner\": [award_name[1]],\n",
    "            \"confidence\": 0.5\n",
    "            \n",
    "        }\n",
    "        tweet[\"win_resolutions\"] = win_resolutions\n",
    "\n",
    "        \n",
    "        "
   ]
  },
  {
   "cell_type": "code",
   "execution_count": 6,
   "id": "011d343b",
   "metadata": {},
   "outputs": [
    {
     "name": "stdout",
     "output_type": "stream",
     "text": [
      "Requirement already satisfied: blis in /Library/Frameworks/Python.framework/Versions/3.10/lib/python3.10/site-packages (1.0.1)\n",
      "Requirement already satisfied: numpy<3.0.0,>=2.0.0 in /Library/Frameworks/Python.framework/Versions/3.10/lib/python3.10/site-packages (from blis) (2.0.2)\n",
      "Note: you may need to restart the kernel to use updated packages.\n"
     ]
    }
   ],
   "source": [
    "%pip install blis"
   ]
  },
  {
   "cell_type": "code",
   "execution_count": 7,
   "id": "fd864880",
   "metadata": {},
   "outputs": [
    {
     "name": "stdout",
     "output_type": "stream",
     "text": [
      "/System/Library/Frameworks/Python.framework/Versions/2.7/Resources/Python.app/Contents/MacOS/Python: No module named spacy\n"
     ]
    }
   ],
   "source": [
    "!python -m spacy download en_core_web_sm\n"
   ]
  },
  {
   "cell_type": "code",
   "execution_count": 8,
   "id": "d036e1d1",
   "metadata": {},
   "outputs": [],
   "source": [
    "import spacy\n",
    "nlp = spacy.load(\"en_core_web_sm\")\n",
    "def get_part_before_host(sentence):\n",
    "    # pattern to capture only the part before the hosting-related verbs\n",
    "    pattern = r\"(.*?)(?:\\s+(?:is|are)\\s+)?(?:hosts|host|are hosting|is hosting)\"\n",
    "\n",
    "    \n",
    "    match = re.search(pattern, sentence, re.IGNORECASE)\n",
    "\n",
    "    if match:\n",
    "        # Return the part before the hosting verb\n",
    "        return match.group(1).strip()\n",
    "\n",
    "    return None\n",
    "\n",
    "\n",
    "def find_hosts_from_text(text):\n",
    "\n",
    "    hosts = []\n",
    "    # Skip if no mention of host in text, or about next year\n",
    "    if re.search(r'(?:\\bhost)|(?:host(?:s|ed|ing)?\\b)', text, re.IGNORECASE) == None \\\n",
    "        or re.search(r'\\bnext\\b', text, re.IGNORECASE) != None:\n",
    "        return hosts\n",
    "    \n",
    "    doc = nlp(text)\n",
    "\n",
    "    for sentence in doc.sents:\n",
    "\n",
    "        # Find the root verb of the sentence\n",
    "        root_verb = [token for token in sentence if token.dep_ == \"ROOT\"]\n",
    "\n",
    "        if root_verb and root_verb[0].lemma_ == \"host\":\n",
    "            # Find the people mentioned in the sentence\n",
    "            potential_hosts = [entity for entity in doc.ents \\\n",
    "                               if entity.label_ == \"PERSON\"]\n",
    "            # Add to hosts\n",
    "            hosts.extend([host.text for host in potential_hosts])\n",
    "            break\n",
    "\n",
    "            # # Get the part before the hosting verb using regex function\n",
    "            # sentence_text = str(sentence)\n",
    "            # before_host = get_part_before_host(sentence_text)\n",
    "\n",
    "            # if before_host:\n",
    "            #     # Split the part by \"and\" or \"&\" to extract multiple hosts\n",
    "                \n",
    "            #     potential_hosts = re.split(r'\\s*(?:and|&|/|\\\\)\\s*', before_host)\n",
    "\n",
    "            #     hosts.extend(potential_hosts)\n",
    "\n",
    "    return hosts\n",
    "\n"
   ]
  },
  {
   "cell_type": "code",
   "execution_count": 10,
   "id": "da3f9f58",
   "metadata": {},
   "outputs": [],
   "source": [
    "for index, tweet in enumerate(data):\n",
    "    \n",
    "    tweet_text = tweet['text']\n",
    "    \n",
    "    \n",
    "    hosts = find_hosts_from_text(tweet_text)\n",
    "    \n",
    "    if hosts:\n",
    "        host_resolutions = {\n",
    "            \"hosts\": hosts,\n",
    "            \"confidence\": 0.7\n",
    "            \n",
    "            \n",
    "        }\n",
    "        tweet[\"host_resolutions\"] = host_resolutions\n",
    "        \n",
    "    \n",
    "        \n",
    "        "
   ]
  },
  {
   "cell_type": "code",
   "execution_count": 11,
   "id": "fc20494e",
   "metadata": {},
   "outputs": [],
   "source": [
    "filename = 'parsed_data.json'\n",
    "\n",
    "# Write data to JSON file\n",
    "with open(filename, 'w') as json_file:\n",
    "    json.dump(data, json_file, indent=4)"
   ]
  }
 ],
 "metadata": {
  "kernelspec": {
   "display_name": "Python 3",
   "language": "python",
   "name": "python3"
  },
  "language_info": {
   "codemirror_mode": {
    "name": "ipython",
    "version": 3
   },
   "file_extension": ".py",
   "mimetype": "text/x-python",
   "name": "python",
   "nbconvert_exporter": "python",
   "pygments_lexer": "ipython3",
   "version": "3.10.2"
  }
 },
 "nbformat": 4,
 "nbformat_minor": 5
}
